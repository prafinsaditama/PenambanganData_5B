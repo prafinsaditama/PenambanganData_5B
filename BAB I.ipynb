{
 "cells": [
  {
   "cell_type": "markdown",
   "metadata": {},
   "source": [
    "# Tugas I\n",
    "\n",
    "## Mean\n",
    "\n",
    "## Median\n",
    "\n",
    "## Mode\n",
    "\n",
    "## Range\n",
    "\n",
    "## Kuartil\n",
    "\n",
    "## Variant\n",
    "\n",
    "## Standar Deviasi\n",
    "\n"
   ]
  }
 ],
 "metadata": {
  "kernelspec": {
   "display_name": "Python 3",
   "language": "python",
   "name": "python3"
  },
  "language_info": {
   "codemirror_mode": {
    "name": "ipython",
    "version": 3
   },
   "file_extension": ".py",
   "mimetype": "text/x-python",
   "name": "python",
   "nbconvert_exporter": "python",
   "pygments_lexer": "ipython3",
   "version": "3.7.3"
  }
 },
 "nbformat": 4,
 "nbformat_minor": 2
}
