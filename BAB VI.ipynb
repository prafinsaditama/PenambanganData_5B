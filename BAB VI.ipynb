{
 "cells": [
  {
   "cell_type": "markdown",
   "metadata": {},
   "source": [
    "# Tugas VI\n",
    "\n",
    "### Fuzzy C-Mean Clustering\n",
    "\n",
    "Metode Fuzzy K-Means (atau lebih sering disebut sebagai Fuzzy C-Means) mengalokasikan kembali data ke dalam masing-masing cluster dengan memanfaatkan teori Fuzzy. Teori ini mengeneralisasikan metode pengalokasian yang bersifat tegas (hard) seperti yang digunakan pada metode Hard K-Means. Dalam metode Fuzzy K-Means dipergunakan variabel membership function, uik, yang merujuk pada seberapa besar kemungkinan suatu data bisa menjadi anggota ke dalam suatu cluster.\n",
    "\n",
    " \n",
    "Pada Fuzzy K-Means yang diusulkan oleh Bezdek, diperkenalkan juga suatu variabel myang merupakan weighting exponent dari membership function. Variabel ini dapat mengubah besaran pengaruh dari membership function, uik, dalam proses clustering menggunakan metode Fuzzy K-Means. Nilai m mempunyai wilayah nilai m>1.\n",
    "\n",
    "Sampai sekarang ini tidak ada ketentuan yang jelas berapa besar nilai m yang optimal dalam melakukan proses optimasi suatu permasalahan clustering. Nilai myang umumnya digunakan adalah 2.\n",
    "\n",
    "Membership function untuk suatu data ke suatu cluster tertentu dihitung menggunakan rumus sebagai berikut:\n",
    "\n",
    "![](https://informatikalogi.com/wp-content/uploads/2016/11/membership-function-fuzzy-means.jpg)\n",
    "Membership Function Fuzzy Means\n",
    "\n",
    "dimana:\n",
    "uik : Membership function data ke-k ke cluster ke-i\n",
    "vi : Nilai centroid cluster ke-i\n",
    "m : Weighting Exponent\n",
    "Membership function, uik, mempunyai wilayah nilai 0 ≤ uik ≤ 1. Data item yang mempunyai tingkat kemungkinan yang lebih tinggi ke suatu kelompok akan mempunyai nilai membership function ke kelompok tersebut yang mendekati angka 1 dan ke kelompok yang lain mendekati angka 0.\n",
    "\n",
    "Untuk menghitung centroid cluster ke-i, vi, digunakan rumus sebagai berikut:\n",
    "\n",
    "![](https://informatikalogi.com/wp-content/uploads/2016/11/rumus-fuzzy-means-clustering.jpg)\n",
    "Rumus Fuzzy Means Clustering\n",
    "\n",
    "dimana:\n",
    "N : Jumlah data\n",
    "m : Weighting exponent\n",
    "uik : Membership function data ke-k ke cluster ke-i\n",
    "\n",
    " "
   ]
  }
 ],
 "metadata": {
  "kernelspec": {
   "display_name": "Python 3",
   "language": "python",
   "name": "python3"
  },
  "language_info": {
   "codemirror_mode": {
    "name": "ipython",
    "version": 3
   },
   "file_extension": ".py",
   "mimetype": "text/x-python",
   "name": "python",
   "nbconvert_exporter": "python",
   "pygments_lexer": "ipython3",
   "version": "3.7.3"
  }
 },
 "nbformat": 4,
 "nbformat_minor": 2
}
